{
 "cells": [
  {
   "cell_type": "code",
   "execution_count": 1,
   "metadata": {},
   "outputs": [],
   "source": [
    "from random import randint "
   ]
  },
  {
   "cell_type": "code",
   "execution_count": null,
   "metadata": {},
   "outputs": [],
   "source": [
    "k=0\n",
    "z=randint(1,10)\n",
    "print('Компьютер загадал число')\n",
    "while k<5:\n",
    "    x=int(input('Попытайтесь угадать\\n'))\n",
    "    if x==z:\n",
    "        print(\"Победа\")\n",
    "    if x>z:\n",
    "        print(\"ВВедите число меньше\")\n",
    "    if x<z:\n",
    "        print(\"ВВедите число больше\")\n",
    "    if k==4:\n",
    "        print(\"Game over!!!\")\n",
    "    k=k+1"
   ]
  },
  {
   "cell_type": "code",
   "execution_count": null,
   "metadata": {},
   "outputs": [],
   "source": []
  }
 ],
 "metadata": {
  "kernelspec": {
   "display_name": "Python 3",
   "language": "python",
   "name": "python3"
  },
  "language_info": {
   "codemirror_mode": {
    "name": "ipython",
    "version": 3
   },
   "file_extension": ".py",
   "mimetype": "text/x-python",
   "name": "python",
   "nbconvert_exporter": "python",
   "pygments_lexer": "ipython3",
   "version": "3.7.4"
  }
 },
 "nbformat": 4,
 "nbformat_minor": 4
}
