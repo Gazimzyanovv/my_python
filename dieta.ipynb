{
 "cells": [
  {
   "cell_type": "code",
   "execution_count": 27,
   "metadata": {},
   "outputs": [
    {
     "name": "stdin",
     "output_type": "stream",
     "text": [
      "Введите свой вес 100\n"
     ]
    },
    {
     "name": "stdout",
     "output_type": "stream",
     "text": [
      "1мес 2мес 3мес 4мес 5мес 6мес\n",
      "98.5 97.0 95.5 94.0 92.5 91.0\n"
     ]
    }
   ],
   "source": [
    "x=int(input(\"Введите свой вес\"))\n",
    "k=1.5\n",
    "print(\"1мес 2мес 3мес 4мес 5мес 6мес\") \n",
    "print(x-k*1,x-k*2,x-k*3,x-k*4,x-k*5,x-k*6)"
   ]
  },
  {
   "cell_type": "code",
   "execution_count": null,
   "metadata": {},
   "outputs": [],
   "source": []
  }
 ],
 "metadata": {
  "kernelspec": {
   "display_name": "Python 3",
   "language": "python",
   "name": "python3"
  },
  "language_info": {
   "codemirror_mode": {
    "name": "ipython",
    "version": 3
   },
   "file_extension": ".py",
   "mimetype": "text/x-python",
   "name": "python",
   "nbconvert_exporter": "python",
   "pygments_lexer": "ipython3",
   "version": "3.7.4"
  }
 },
 "nbformat": 4,
 "nbformat_minor": 4
}
