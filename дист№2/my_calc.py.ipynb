{
 "cells": [
  {
   "cell_type": "code",
   "execution_count": 24,
   "metadata": {},
   "outputs": [
    {
     "name": "stdin",
     "output_type": "stream",
     "text": [
      "Введите первое число 10\n",
      "Введите второе число 300\n",
      "Выберите оператор:1.сложение, 2.умножение, 3.Деление, 4.Вычитание 4\n"
     ]
    },
    {
     "name": "stdout",
     "output_type": "stream",
     "text": [
      "Ответ: -290\n"
     ]
    }
   ],
   "source": [
    "x=input(\"Введите первое число\")\n",
    "y=input(\"Введите второе число\")\n",
    "z=int(input(\"Выберите оператор:1.сложение, 2.умножение, 3.Деление, 4.Вычитание\"))\n",
    "\n",
    "try:\n",
    "    if x.isdigit():\n",
    "        x=int(x)\n",
    "        if y.isdigit():\n",
    "            y=int(y)\n",
    "            if z==1:\n",
    "                print(x+y)\n",
    "            if z==2:\n",
    "                print(x*y)\n",
    "            if z==3:\n",
    "                print(x/y)\n",
    "            if z==4:\n",
    "                print(\"Ответ:\",x-y)\n",
    "        else:\n",
    "            print(\"Введите число,а не строку!\")\n",
    "    else :\n",
    "        print(\"Введите число, а не строку!\")\n",
    "except ZeroDivisionError:\n",
    "    print(\"Ошибка деления на нуль!\")\n",
    "     \n",
    "\n",
    "\n",
    "    "
   ]
  },
  {
   "cell_type": "code",
   "execution_count": null,
   "metadata": {},
   "outputs": [],
   "source": []
  }
 ],
 "metadata": {
  "kernelspec": {
   "display_name": "Python 3",
   "language": "python",
   "name": "python3"
  },
  "language_info": {
   "codemirror_mode": {
    "name": "ipython",
    "version": 3
   },
   "file_extension": ".py",
   "mimetype": "text/x-python",
   "name": "python",
   "nbconvert_exporter": "python",
   "pygments_lexer": "ipython3",
   "version": "3.7.4"
  }
 },
 "nbformat": 4,
 "nbformat_minor": 4
}
